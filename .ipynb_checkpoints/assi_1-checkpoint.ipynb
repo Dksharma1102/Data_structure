{
 "cells": [
  {
   "cell_type": "code",
   "execution_count": 1,
   "id": "5178ffea-6dc3-4a91-96a4-35ddd808a7a7",
   "metadata": {},
   "outputs": [],
   "source": [
    "#gggg\n"
   ]
  },
  {
   "cell_type": "code",
   "execution_count": 2,
   "id": "7ccbb2e2-daad-4fbe-9b82-d3ab3b0fcd7c",
   "metadata": {},
   "outputs": [],
   "source": [
    "#dfdfgdfg"
   ]
  },
  {
   "cell_type": "code",
   "execution_count": null,
   "id": "0708af13-8fba-4334-9444-161c1a3c543a",
   "metadata": {},
   "outputs": [],
   "source": []
  }
 ],
 "metadata": {
  "kernelspec": {
   "display_name": "Python 3 (ipykernel)",
   "language": "python",
   "name": "python3"
  },
  "language_info": {
   "codemirror_mode": {
    "name": "ipython",
    "version": 3
   },
   "file_extension": ".py",
   "mimetype": "text/x-python",
   "name": "python",
   "nbconvert_exporter": "python",
   "pygments_lexer": "ipython3",
   "version": "3.10.8"
  }
 },
 "nbformat": 4,
 "nbformat_minor": 5
}
