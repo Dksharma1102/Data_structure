{
 "cells": [
  {
   "cell_type": "markdown",
   "id": "af927f5b-b7f1-442e-b558-15771fbd54b1",
   "metadata": {},
   "source": [
    " #Discuss string slicing and provide examples ?"
   ]
  },
  {
   "cell_type": "markdown",
   "id": "7473ceea-229d-448c-8253-dbce8c375c99",
   "metadata": {},
   "source": [
    "# String slicing is a technique used to extract a portion (substring) of a string. It allows you to access specific parts of the string by specifying a range of indices. Slicing can be done by using the colon : operator."
   ]
  },
  {
   "cell_type": "code",
   "execution_count": 3,
   "id": "ecac2615-03b6-45dd-abf9-9a1a3b402c5d",
   "metadata": {},
   "outputs": [
    {
     "name": "stdout",
     "output_type": "stream",
     "text": [
      "Python\n",
      "Programming\n"
     ]
    }
   ],
   "source": [
    "text = \"Python Programming\"\n",
    "\n",
    "# From start to index 5\n",
    "slice1 = text[:6]\n",
    "print(slice1)  # Output: Python\n",
    "\n",
    "# From index 7 to the end\n",
    "slice2 = text[7:]\n",
    "print(slice2)  # Output: Programming\n"
   ]
  },
  {
   "cell_type": "markdown",
   "id": "7c8fee4e-f255-474c-811c-c7353b1da06c",
   "metadata": {},
   "source": [
    "#2.Explain the key features of lists in Python. "
   ]
  },
  {
   "cell_type": "markdown",
   "id": "3a8bb68e-324f-4a21-9c09-cf31e5a4bb03",
   "metadata": {},
   "source": [
    "Ordered: The lists maintain the order of their elements. The order in which you are going to insert items will be the order in which they are going to be accessed.\n",
    "\n",
    "Mutable: Lists are changable after creation. You can add, remove, or modify the items inside a list.\n",
    "\n",
    "Dynamic: Lists can increase or decrease in size as needed. You can append or remove the elements; you need not declare any size for the list beforehand.\n",
    "\n",
    "Heterogeneous: Lists can store elements of different kinds of data types, like integers, strings, objects, etc., in one list.\n",
    "\n",
    "Indexing and Slicing: Lists allow indexing to get elements by their positions. It also supports slicing, which is a way of getting more than one element.\n",
    "\n",
    "Iterable: A list is iterable in the sense that it can be looped through using for loops; hence, lists are fairly easy to manipulate.\n",
    "\n",
    "Comprehensions: Python supports list comprehensions, making creation or manipulation of lists quite readable and concise.\n",
    "\n",
    "Built-in Methods: Lists have a number of built-in methods-append(), remove(), sort(), reverse(), extend()-that allow flexibility in handling the contents of a list."
   ]
  },
  {
   "cell_type": "markdown",
   "id": "3165fa9c-9060-4cfd-bc17-db70c9744092",
   "metadata": {},
   "source": [
    "#3.Describe how to access, modify, and delete elements in a list with examples."
   ]
  },
  {
   "cell_type": "code",
   "execution_count": 3,
   "id": "94d56c4f-9c5d-4d13-b7c7-cd6320679881",
   "metadata": {},
   "outputs": [
    {
     "name": "stdout",
     "output_type": "stream",
     "text": [
      "apple\n",
      "banana\n",
      "['apple', 'blueberry', 'cherry']\n",
      "['apple', 'cherry']\n"
     ]
    }
   ],
   "source": [
    "\n",
    "# 1. Accessing Elements\n",
    "# By Index: You can access elements using their index (position) in the list.\n",
    "\n",
    "fruits = ['apple', 'banana', 'cherry']\n",
    "print(fruits[0])  # Output: apple\n",
    "print(fruits[1])  # Output: banana\n",
    "\n",
    "# 2. Modifying Elements\n",
    "# By Index: You can modify an element by directly assigning a new value to its index.\n",
    "\n",
    "fruits[1] = 'blueberry'\n",
    "print(fruits) \n",
    "\n",
    "# 3.Deleting Elements\n",
    "# Using del: The del statement can remove elements by index.\n",
    "# pop\n",
    "# remove\n",
    "\n",
    "del fruits[1]\n",
    "print(fruits)\n"
   ]
  },
  {
   "cell_type": "markdown",
   "id": "8dec3b9d-aee4-4109-a362-faded73cc710",
   "metadata": {},
   "source": [
    "#4.Compare and contrast tuples and lists with examples."
   ]
  },
  {
   "cell_type": "code",
   "execution_count": 4,
   "id": "7227249a-a869-4f44-b5d3-a5501cf5e4b1",
   "metadata": {},
   "outputs": [
    {
     "name": "stdout",
     "output_type": "stream",
     "text": [
      "[10, 2, 3]\n"
     ]
    }
   ],
   "source": [
    "# Lists are mutable,we can change their content after creation e.g., adding, removing, or modifying elements).\n",
    "\n",
    "my_list = [1, 2, 3]\n",
    "my_list[0] = 10  \n",
    "print(my_list) \n",
    "\n",
    "# Tuples are immutable, once created, their content cannot be altered\n",
    "my_tuple = (1, 2, 3)\n",
    "# my_tuple[0] = 10  \n",
    "# This would raise a TypeError"
   ]
  },
  {
   "cell_type": "markdown",
   "id": "eea75884-a55a-49a2-b039-a68d7381dc08",
   "metadata": {},
   "source": [
    "#5.Describe the key features of sets and provide examples of their use."
   ]
  },
  {
   "cell_type": "code",
   "execution_count": 5,
   "id": "56ec8df4-f1e0-4de3-b149-62e2b5e8aef5",
   "metadata": {},
   "outputs": [
    {
     "name": "stdout",
     "output_type": "stream",
     "text": [
      "{1, 2, 3}\n"
     ]
    }
   ],
   "source": [
    "# Unordered: Elements in a set do not have a specific order, and they cannot be \n",
    "# accessed by an index.\n",
    "# Unique Elements: Sets automatically eliminate duplicate elements.\n",
    "\n",
    "my_set = {1, 2, 2, 3}\n",
    "print(my_set) \n",
    "\n",
    "# Mutable: You can add or remove elements from a set."
   ]
  },
  {
   "cell_type": "markdown",
   "id": "0fc824dd-c947-4c5a-972a-f0be32ae7fae",
   "metadata": {},
   "source": [
    "#6.Discuss the use cases of tuples and sets in Python programming."
   ]
  },
  {
   "cell_type": "markdown",
   "id": "0b5fd31d-3920-454e-846b-62725797fa32",
   "metadata": {},
   "source": [
    "Tuples:Data Integrity: In tasks that require data integrity, tuples can be used. \n",
    "This means data that is supposed not to be modified-for example, coordinates of\n",
    "a point, like (x, y), or RGB color values, such as (R, G, B).\n",
    "\n",
    "Sets:Membership Testing: If membership testing-that is, \n",
    "checking whether an element belongs or\n",
    "doesn't belong to a given set of values-is needed very frequently, \n",
    "it's worth using sets for this.\n"
   ]
  },
  {
   "cell_type": "markdown",
   "id": "b22fae4d-ac0c-49ba-bc44-8f7388af53a5",
   "metadata": {},
   "source": [
    "#7.Describe how to add, modify, and delete items in a dictionary with"
   ]
  },
  {
   "cell_type": "code",
   "execution_count": 8,
   "id": "b59fb89f-c6fd-446d-9697-bf4c22aff4aa",
   "metadata": {},
   "outputs": [
    {
     "name": "stdout",
     "output_type": "stream",
     "text": [
      "{'name': 'Alice', 'age': 25, 'city': 'New York'}\n",
      "{'name': 'Alice', 'age': 26, 'city': 'New York'}\n",
      "{'name': 'Alice', 'age': 26}\n",
      "26\n",
      "{'name': 'Alice'}\n"
     ]
    }
   ],
   "source": [
    "# Adding Items:\n",
    "my_dict = {'name': 'Alice', 'age': 25}\n",
    "my_dict['city'] = 'New York' \n",
    "print(my_dict) \n",
    "\n",
    "# Modifying Items:\n",
    "my_dict['age'] = 26  # Modifying an existing value\n",
    "print(my_dict)  \n",
    "# Deleting Items: \n",
    "\n",
    "# 1.Using del:\n",
    "\n",
    "del my_dict['city']  # Deleting a key-value pair\n",
    "print(my_dict) \n",
    "\n",
    "# 2.Using pop():\n",
    "\n",
    "age = my_dict.pop('age')  \n",
    "print(age)  \n",
    "print(my_dict)  "
   ]
  },
  {
   "cell_type": "markdown",
   "id": "617960cb-43f3-42f4-bdfb-c36e38ba3bfc",
   "metadata": {},
   "source": [
    "#8.Discuss the importance of dictionary keys being immutable and provide examples."
   ]
  },
  {
   "cell_type": "code",
   "execution_count": 9,
   "id": "ad38d835-2450-4c64-90f4-136715321e0e",
   "metadata": {},
   "outputs": [
    {
     "name": "stdout",
     "output_type": "stream",
     "text": [
      "{(1, 2): 'point', 'name': 'Alice', 3: 'integer'}\n"
     ]
    },
    {
     "ename": "TypeError",
     "evalue": "unhashable type: 'list'",
     "output_type": "error",
     "traceback": [
      "\u001b[0;31m---------------------------------------------------------------------------\u001b[0m",
      "\u001b[0;31mTypeError\u001b[0m                                 Traceback (most recent call last)",
      "Cell \u001b[0;32mIn[9], line 11\u001b[0m\n\u001b[1;32m      4\u001b[0m \u001b[38;5;28mprint\u001b[39m(my_dict)  \n\u001b[1;32m      6\u001b[0m \u001b[38;5;66;03m# Trying to use mutable keys:\u001b[39;00m\n\u001b[1;32m      7\u001b[0m \u001b[38;5;66;03m# Listing a dictionary as a key, or dictionaries,\u001b[39;00m\n\u001b[1;32m      8\u001b[0m \u001b[38;5;66;03m# would result in a TypeError because it is mutable; \u001b[39;00m\n\u001b[1;32m      9\u001b[0m \u001b[38;5;66;03m# therefore, its hash would change, and this can destroy \u001b[39;00m\n\u001b[1;32m     10\u001b[0m \u001b[38;5;66;03m# the whole dictionary structure.\u001b[39;00m\n\u001b[0;32m---> 11\u001b[0m my_dict \u001b[38;5;241m=\u001b[39m {[\u001b[38;5;241m1\u001b[39m, \u001b[38;5;241m2\u001b[39m]: \u001b[38;5;124m'\u001b[39m\u001b[38;5;124mvalue\u001b[39m\u001b[38;5;124m'\u001b[39m}  \u001b[38;5;66;03m# This would raise a TypeError\u001b[39;00m\n\u001b[1;32m     13\u001b[0m \u001b[38;5;66;03m# This means that with immutable keys, \u001b[39;00m\n\u001b[1;32m     14\u001b[0m \u001b[38;5;66;03m# the dictionary operations are complete and \u001b[39;00m\n\u001b[1;32m     15\u001b[0m \u001b[38;5;66;03m# dictionaries can ensure integrity and efficiency, \u001b[39;00m\n\u001b[1;32m     16\u001b[0m \u001b[38;5;66;03m# hence making it one of the most reliable and powerful data structures in Python.\u001b[39;00m\n",
      "\u001b[0;31mTypeError\u001b[0m: unhashable type: 'list'"
     ]
    }
   ],
   "source": [
    "# mmutable Keys:\n",
    "# Strings, Numbers, Tuples:\n",
    "my_dict = {(1, 2): 'point', 'name': 'Alice', 3: 'integer'}\n",
    "print(my_dict)  \n",
    "\n",
    "# Trying to use mutable keys:\n",
    "# Listing a dictionary as a key, or dictionaries,\n",
    "# would result in a TypeError because it is mutable; \n",
    "# therefore, its hash would change, and this can destroy \n",
    "# the whole dictionary structure.\n",
    "my_dict = {[1, 2]: 'value'}  # This would raise a TypeError\n",
    "\n",
    "# This means that with immutable keys, \n",
    "# the dictionary operations are complete and \n",
    "# dictionaries can ensure integrity and efficiency, \n",
    "# hence making it one of the most reliable and powerful data structures in Python."
   ]
  },
  {
   "cell_type": "code",
   "execution_count": null,
   "id": "d3e213f4-2228-408b-b6bc-bfaafc220716",
   "metadata": {},
   "outputs": [],
   "source": []
  }
 ],
 "metadata": {
  "kernelspec": {
   "display_name": "Python 3 (ipykernel)",
   "language": "python",
   "name": "python3"
  },
  "language_info": {
   "codemirror_mode": {
    "name": "ipython",
    "version": 3
   },
   "file_extension": ".py",
   "mimetype": "text/x-python",
   "name": "python",
   "nbconvert_exporter": "python",
   "pygments_lexer": "ipython3",
   "version": "3.10.8"
  }
 },
 "nbformat": 4,
 "nbformat_minor": 5
}
