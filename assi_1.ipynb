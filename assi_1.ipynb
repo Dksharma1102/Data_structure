{
 "cells": [
  {
   "cell_type": "markdown",
   "id": "af927f5b-b7f1-442e-b558-15771fbd54b1",
   "metadata": {},
   "source": [
    " #Discuss string slicing and provide examples ?"
   ]
  },
  {
   "cell_type": "markdown",
   "id": "7473ceea-229d-448c-8253-dbce8c375c99",
   "metadata": {},
   "source": [
    "# String slicing is a technique used to extract a portion (substring) of a string. It allows you to access specific parts of the string by specifying a range of indices. Slicing can be done by using the colon : operator."
   ]
  },
  {
   "cell_type": "code",
   "execution_count": 3,
   "id": "ecac2615-03b6-45dd-abf9-9a1a3b402c5d",
   "metadata": {},
   "outputs": [
    {
     "name": "stdout",
     "output_type": "stream",
     "text": [
      "Python\n",
      "Programming\n"
     ]
    }
   ],
   "source": [
    "text = \"Python Programming\"\n",
    "\n",
    "# From start to index 5\n",
    "slice1 = text[:6]\n",
    "print(slice1)  # Output: Python\n",
    "\n",
    "# From index 7 to the end\n",
    "slice2 = text[7:]\n",
    "print(slice2)  # Output: Programming\n"
   ]
  },
  {
   "cell_type": "code",
   "execution_count": null,
   "id": "05af32fb-060e-4df6-a104-559d37bd0b7b",
   "metadata": {},
   "outputs": [],
   "source": [
    "2 # "
   ]
  }
 ],
 "metadata": {
  "kernelspec": {
   "display_name": "Python 3 (ipykernel)",
   "language": "python",
   "name": "python3"
  },
  "language_info": {
   "codemirror_mode": {
    "name": "ipython",
    "version": 3
   },
   "file_extension": ".py",
   "mimetype": "text/x-python",
   "name": "python",
   "nbconvert_exporter": "python",
   "pygments_lexer": "ipython3",
   "version": "3.10.8"
  }
 },
 "nbformat": 4,
 "nbformat_minor": 5
}
