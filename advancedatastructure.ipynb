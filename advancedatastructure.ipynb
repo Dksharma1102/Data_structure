{
 "cells": [
  {
   "cell_type": "markdown",
   "id": "ecb7b59d-b811-45ab-9971-10e44e405389",
   "metadata": {},
   "source": [
    " #Q 1.Write a code to reverse a string"
   ]
  },
  {
   "cell_type": "code",
   "execution_count": 13,
   "id": "fccc738f-b5db-4a31-b29e-9820ff7775ba",
   "metadata": {},
   "outputs": [
    {
     "name": "stdout",
     "output_type": "stream",
     "text": [
      " ris olleh\n"
     ]
    }
   ],
   "source": [
    "str=\"hello sir \"\n",
    "str1=str[: :-1]\n",
    "print(str1)\n",
    "    "
   ]
  },
  {
   "cell_type": "markdown",
   "id": "d758fee9-3967-43a5-98e1-4b8f7f9dcb11",
   "metadata": {},
   "source": [
    "#Q2. Write a code to count the number of vowels in a string.\n",
    "\n",
    "\n"
   ]
  },
  {
   "cell_type": "code",
   "execution_count": 30,
   "id": "e4dce550-4fde-4131-ad35-5fec31dc3701",
   "metadata": {},
   "outputs": [
    {
     "name": "stdout",
     "output_type": "stream",
     "text": [
      "13\n",
      "method2: 13\n"
     ]
    }
   ],
   "source": [
    "n='hello i want count vowels And BAsIc method'\n",
    "count=0\n",
    "for i in n:\n",
    "    if(i=='a'or i=='e'or i=='o' or i=='i' or i=='u' or i=='A'or i=='E'or i=='O' or i=='I' or i=='U'):\n",
    "        count+=1\n",
    "print(count)\n",
    "# method 2:\n",
    "vowels='aeiouAEIOU's\n",
    "counts=0\n",
    "for i in n:\n",
    "    if(i in vowels):\n",
    "        counts+=1\n",
    "print('method2:',counts)\n",
    "        \n",
    "   "
   ]
  },
  {
   "cell_type": "markdown",
   "id": "dcc851cb-c1eb-43a0-bc6f-627953879fa7",
   "metadata": {},
   "source": [
    "#Q3. write a program to check given string is palindrome or not ?"
   ]
  },
  {
   "cell_type": "code",
   "execution_count": 8,
   "id": "9230c5c7-1b2a-4819-86db-5444ef203e55",
   "metadata": {},
   "outputs": [
    {
     "name": "stdout",
     "output_type": "stream",
     "text": [
      "given string is not palindrome\n"
     ]
    }
   ],
   "source": [
    "given=\"sir\"\n",
    "\n",
    "temp=given[: :-1]\n",
    "if(given==temp):\n",
    "    print(\"string is palindrome\")\n",
    "else:\n",
    "    print(\"given string is not palindrome\")\n",
    "\n",
    "\n",
    "    \n"
   ]
  },
  {
   "cell_type": "markdown",
   "id": "e888c4a8-1173-4d61-a4f9-a763f20e4e04",
   "metadata": {},
   "source": [
    "#Q4. write a program to check if two given string are anagrams pf each other ?"
   ]
  },
  {
   "cell_type": "code",
   "execution_count": 14,
   "id": "76ac832b-4829-41e1-ac81-ef61f6c68147",
   "metadata": {},
   "outputs": [
    {
     "name": "stdout",
     "output_type": "stream",
     "text": [
      "not !!!!!!!!!!\n"
     ]
    }
   ],
   "source": [
    "str1=\"list\"\n",
    "str2=\"isit\"\n",
    "\n",
    "if(sorted(str1)==sorted(str2)):\n",
    "    print(\"strings are anagrams!!! \")\n",
    "else:\n",
    "    print('not !!!!!!!!!!')\n"
   ]
  },
  {
   "cell_type": "markdown",
   "id": "6e23838c-2d14-4ea2-8fd9-8cfd1493bff7",
   "metadata": {},
   "source": [
    "#Q.5  Write a code to find all occurrence of a given substring within another string"
   ]
  },
  {
   "cell_type": "code",
   "execution_count": null,
   "id": "5aeb2269-9b21-4854-8463-cc3be9434235",
   "metadata": {},
   "outputs": [],
   "source": [
    "main_string=(\"Hello i am deekshant . hello sir how are you . hello , sir \")\n",
    "sub_str=('hello')\n"
   ]
  }
 ],
 "metadata": {
  "kernelspec": {
   "display_name": "Python 3 (ipykernel)",
   "language": "python",
   "name": "python3"
  },
  "language_info": {
   "codemirror_mode": {
    "name": "ipython",
    "version": 3
   },
   "file_extension": ".py",
   "mimetype": "text/x-python",
   "name": "python",
   "nbconvert_exporter": "python",
   "pygments_lexer": "ipython3",
   "version": "3.10.8"
  }
 },
 "nbformat": 4,
 "nbformat_minor": 5
}
